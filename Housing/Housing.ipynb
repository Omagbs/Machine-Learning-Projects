{
 "cells": [
  {
   "cell_type": "markdown",
   "id": "de45868b-0d8b-415b-95b6-cd94b6db179d",
   "metadata": {},
   "source": [
    "# Housing Machine Learning Project"
   ]
  },
  {
   "cell_type": "markdown",
   "id": "8a8232d2-400f-4fc5-be6d-cffdf91edea7",
   "metadata": {},
   "source": [
    "The first step is to fetch our data. The advantage of automating the process of fetching the data is that it helps for regular changes of data. It also helps when you want to install it on multiple machines "
   ]
  },
  {
   "cell_type": "code",
   "execution_count": 2,
   "id": "b577aa24-63c5-4c5d-926d-620372c84a80",
   "metadata": {},
   "outputs": [],
   "source": [
    "from pathlib import Path\n",
    "import pandas as pd\n",
    "import tarfile\n",
    "import urllib.request"
   ]
  },
  {
   "cell_type": "code",
   "execution_count": 5,
   "id": "1244f465-ba6f-4e7b-8ee3-142907c11d15",
   "metadata": {},
   "outputs": [],
   "source": [
    "def load_housing_data():\n",
    "    tarball_path = Path(\"datasets/housing.tgz\")\n",
    "    if not tarball_path.is_file():\n",
    "        Path(\"datasets\").mkdir(parents=True, exist_ok=True)\n",
    "        url = \"https://github.com/ageron/data/raw/main/housing.tgz\"\n",
    "        urllib.request.urlretrieve(url, tarball_path)\n",
    "        with tarfile.open(tarball_path) as housing_tarball:\n",
    "            housing_tarball.extractall(path=\"datasets\")\n",
    "    return pd.read_csv(Path(\"datasets/housing/housing.csv\"))"
   ]
  },
  {
   "cell_type": "code",
   "execution_count": null,
   "id": "a5aab764-dcd3-419c-b0ef-3f19f9c618e5",
   "metadata": {},
   "outputs": [],
   "source": []
  }
 ],
 "metadata": {
  "kernelspec": {
   "display_name": "Python 3 (ipykernel)",
   "language": "python",
   "name": "python3"
  },
  "language_info": {
   "codemirror_mode": {
    "name": "ipython",
    "version": 3
   },
   "file_extension": ".py",
   "mimetype": "text/x-python",
   "name": "python",
   "nbconvert_exporter": "python",
   "pygments_lexer": "ipython3",
   "version": "3.11.7"
  }
 },
 "nbformat": 4,
 "nbformat_minor": 5
}
